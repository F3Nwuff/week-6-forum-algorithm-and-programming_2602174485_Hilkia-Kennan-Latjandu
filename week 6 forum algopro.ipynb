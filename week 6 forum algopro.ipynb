{
 "cells": [
  {
   "cell_type": "code",
   "execution_count": 6,
   "id": "5fd9d4e5",
   "metadata": {},
   "outputs": [
    {
     "name": "stdout",
     "output_type": "stream",
     "text": [
      "{'gold': 500, 'pouch': ['flint', 'twine', 'gemstone'], 'backpack': ['xylophone', 'dagger', 'bedroll', 'bread loaf'], 'pocket': []}\n"
     ]
    }
   ],
   "source": [
    "#exercise 1.1\n",
    "inventory = {\n",
    " 'gold' : 500,\n",
    " 'pouch' : ['flint', 'twine', 'gemstone'],\n",
    " 'backpack' : ['xylophone','dagger', 'bedroll','bread loaf']\n",
    "}\n",
    "inventory['pocket'] = []\n",
    "print(inventory)"
   ]
  },
  {
   "cell_type": "code",
   "execution_count": 7,
   "id": "c75f433c",
   "metadata": {},
   "outputs": [
    {
     "name": "stdout",
     "output_type": "stream",
     "text": [
      "{'gold': 500, 'pouch': ['flint', 'twine', 'gemstone'], 'backpack': ['xylophone', 'dagger', 'bedroll', 'bread loaf'], 'pocket': ['seashell', 'strong berry', 'lint']}\n"
     ]
    }
   ],
   "source": [
    "#exercise 1.2\n",
    "inventory = {\n",
    "    'gold': 500, \n",
    "    'pouch': ['flint', 'twine', 'gemstone'], \n",
    "    'backpack': ['xylophone', 'dagger', 'bedroll', 'bread loaf'], \n",
    "    'pocket' : []\n",
    "}\n",
    "inventory['pocket']=['seashell','strong berry','lint']\n",
    "print(inventory)"
   ]
  },
  {
   "cell_type": "code",
   "execution_count": 8,
   "id": "c4561c2f",
   "metadata": {},
   "outputs": [
    {
     "name": "stdout",
     "output_type": "stream",
     "text": [
      "{'gold': 500, 'pouch': ['flint', 'twine', 'gemstone'], 'backpack': ['bedroll', 'bread loaf', 'dagger', 'xylophone'], 'pocket': ['seashell', 'strong berry', 'lint']}\n"
     ]
    }
   ],
   "source": [
    "#exercise 1.3\n",
    "inventory = {\n",
    "    'gold': 500, \n",
    "    'pouch': ['flint', 'twine', 'gemstone'], \n",
    "    'backpack': ['xylophone', 'dagger', 'bedroll', 'bread loaf'], \n",
    "    'pocket' : ['seashell','strong berry','lint']\n",
    "}\n",
    "inventory['backpack'].sort()\n",
    "print(inventory)"
   ]
  },
  {
   "cell_type": "code",
   "execution_count": 9,
   "id": "16bf350f",
   "metadata": {},
   "outputs": [
    {
     "name": "stdout",
     "output_type": "stream",
     "text": [
      "{'gold': 500, 'pouch': ['flint', 'twine', 'gemstone'], 'backpack': ['bedroll', 'bread loaf', 'xylophone'], 'pocket': ['seashell', 'strong berry', 'lint']}\n"
     ]
    }
   ],
   "source": [
    "#exercise 1.4\n",
    "inventory = {\n",
    "    'gold': 500, \n",
    "    'pouch': ['flint', 'twine', 'gemstone'], \n",
    "    'backpack': ['bedroll', 'bread loaf', 'dagger', 'xylophone'], \n",
    "    'pocket': ['seashell', 'strong berry', 'lint']\n",
    "}\n",
    "inventory['backpack'].remove('dagger')\n",
    "print(inventory)"
   ]
  },
  {
   "cell_type": "code",
   "execution_count": 10,
   "id": "61f25a70",
   "metadata": {},
   "outputs": [
    {
     "name": "stdout",
     "output_type": "stream",
     "text": [
      "{'gold': 550, 'pouch': ['flint', 'twine', 'gemstone'], 'backpack': ['bedroll', 'bread loaf', 'xylophone'], 'pocket': ['seashell', 'strong berry', 'lint']}\n"
     ]
    }
   ],
   "source": [
    "#exercise 1.5\n",
    "inventory = {\n",
    "    'gold': 500, \n",
    "    'pouch': ['flint', 'twine', 'gemstone'], \n",
    "    'backpack': ['bedroll', 'bread loaf', 'xylophone'], \n",
    "    'pocket': ['seashell', 'strong berry', 'lint']\n",
    "}\n",
    "inventory['gold'] += 50\n",
    "print(inventory)"
   ]
  },
  {
   "cell_type": "code",
   "execution_count": 11,
   "id": "12160fce",
   "metadata": {},
   "outputs": [
    {
     "name": "stdout",
     "output_type": "stream",
     "text": [
      "banana\n",
      "price : 4\n",
      "stock : 6\n",
      "payment : 24\n",
      "\n",
      "apple\n",
      "price : 2\n",
      "stock : 0\n",
      "payment : 0\n",
      "\n",
      "orange\n",
      "price : 1.5\n",
      "stock : 32\n",
      "payment : 48.0\n",
      "\n",
      "pear\n",
      "price : 3\n",
      "stock : 15\n",
      "payment : 45\n",
      "\n",
      "Total purchase price : 117.0\n"
     ]
    }
   ],
   "source": [
    "#exercise 2.1\n",
    "prices = {\n",
    "    \"banana\": 4,\n",
    "\"apple\": 2,\n",
    "\"orange\": 1.5,\n",
    "\"pear\": 3\n",
    "}\n",
    "stock = {\n",
    " \"banana\": 6,\n",
    " \"apple\": 0,\n",
    " \"orange\": 32,\n",
    " \"pear\": 15\n",
    "}\n",
    "x = 0\n",
    "for y in prices:\n",
    "    print(y)\n",
    "    print(\"price :\", prices[y])\n",
    "    print(\"stock :\", stock[y])\n",
    "    z = prices[y]*stock[y]\n",
    "    print(\"payment :\", z)\n",
    "    print()\n",
    "    x += prices[y] * stock[y]\n",
    "print(\"Total purchase price :\", x)"
   ]
  },
  {
   "cell_type": "code",
   "execution_count": 12,
   "id": "c8a632dd",
   "metadata": {},
   "outputs": [
    {
     "name": "stdout",
     "output_type": "stream",
     "text": [
      "Enter your groceries list items (example form is apple,apple,banana): banana,apple,orange,pear,pear\n",
      "total price is : 11.5\n"
     ]
    }
   ],
   "source": [
    "#exercise 3.1\n",
    "stock = {\n",
    " \"banana\": 6,\n",
    " \"apple\": 0,\n",
    " \"orange\": 32,\n",
    " \"pear\": 15\n",
    "}\n",
    "prices = {\n",
    " \"banana\": 4,\n",
    " \"apple\": 2,\n",
    " \"orange\": 1.5,\n",
    " \"pear\": 3\n",
    "}\n",
    "x = [ k for k in input(\"Enter your groceries list items (example form is apple,apple,banana): \").split(\",\")]\n",
    "def y(x):\n",
    "    total = 0\n",
    "    for z in x:\n",
    "        if stock.get(z, 0) > 0:\n",
    "            total += prices.get(z, 0)\n",
    "            stock[z] -= 1\n",
    "    return total\n",
    "print(\"total price is :\" , y(x))"
   ]
  },
  {
   "cell_type": "code",
   "execution_count": 13,
   "id": "bb7cde1e",
   "metadata": {},
   "outputs": [
    {
     "name": "stdout",
     "output_type": "stream",
     "text": [
      "name : Eren\n",
      "Homework scores : [90.0, 97.0, 75.0, 92.0]\n",
      "Quizzes scores : [88.0, 40.0, 94.0]\n",
      "Test scores : [75.0, 90.0]\n",
      "\n",
      "name : Mikasa\n",
      "Homework scores : [100.0, 92.0, 98.0, 100.0]\n",
      "Quizzes scores : [82.0, 83.0, 91.0]\n",
      "Test scores : [89.0, 97.0]\n",
      "\n",
      "name : Armin\n",
      "Homework scores : [0.0, 87.0, 75.0, 22.0]\n",
      "Quizzes scores : [0.0, 75.0, 78.0]\n",
      "Test scores : [100.0, 100.0]\n",
      "\n"
     ]
    }
   ],
   "source": [
    "#exercise 4.1\n",
    "eren = {\n",
    " \"name\": \"Eren\",\n",
    " \"homework\": [90.0,97.0,75.0,92.0],\n",
    " \"quizzes\": [88.0,40.0,94.0],\n",
    " \"tests\": [75.0,90.0]\n",
    "}\n",
    "mikasa = {\n",
    "\"name\": \"Mikasa\",\n",
    "\"homework\": [100.0, 92.0, 98.0, 100.0],\n",
    "\"quizzes\": [82.0, 83.0, 91.0],\n",
    "\"tests\": [89.0, 97.0]\n",
    "}\n",
    "armin = {\n",
    "\"name\": \"Armin\",\n",
    "\"homework\": [0.0, 87.0, 75.0, 22.0],\n",
    "\"quizzes\": [0.0, 75.0, 78.0],\n",
    "\"tests\": [100.0, 100.0]\n",
    "}\n",
    "student = [\n",
    "    \"eren\" , \"mikasa\" , \"armin\"\n",
    "]\n",
    "for x in student:\n",
    "    print(\"name :\", eval(x + \"['name']\"))\n",
    "    print(\"Homework scores :\", eval(x + \"['homework']\"))\n",
    "    print(\"Quizzes scores :\", eval(x + \"['quizzes']\"))\n",
    "    print(\"Test scores :\", eval(x + \"['tests']\"))\n",
    "    print()"
   ]
  },
  {
   "cell_type": "code",
   "execution_count": 5,
   "id": "3cca2e1e",
   "metadata": {},
   "outputs": [
    {
     "name": "stdout",
     "output_type": "stream",
     "text": [
      "Eren's score is : 79.9\n",
      "Eren's grade is : C\n",
      "Mikasa's score is : 79.9\n",
      "Mikasa's grade is : C\n",
      "Armin's score is : 79.9\n",
      "Armin's grade is : C\n",
      "Class average score : 79.9\n",
      "Class average grade : C\n"
     ]
    }
   ],
   "source": [
    "#exercise 4.2\n",
    "eren = {\n",
    " \"name\": \"Eren\",\n",
    " \"homework\": [90.0,97.0,75.0,92.0],\n",
    " \"quizzes\": [88.0,40.0,94.0],\n",
    " \"tests\": [75.0,90.0]\n",
    "}\n",
    "mikasa = {\n",
    "\"name\": \"Mikasa\",\n",
    "\"homework\": [100.0, 92.0, 98.0, 100.0],\n",
    "\"quizzes\": [82.0, 83.0, 91.0],\n",
    "\"tests\": [89.0, 97.0]\n",
    "}\n",
    "armin = {\n",
    "\"name\": \"Armin\",\n",
    "\"homework\": [0.0, 87.0, 75.0, 22.0],\n",
    "\"quizzes\": [0.0, 75.0, 78.0],\n",
    "\"tests\": [100.0, 100.0]\n",
    "}\n",
    "student = [\n",
    "    \"eren\" , \"mikasa\" , \"armin\"\n",
    "]\n",
    "for x in student :\n",
    "    def get_average(student):\n",
    "        homework = float(average(eval(x + \"['homework']\"))) * 0.1\n",
    "        quizzes = float(average(eval(x + \"['quizzes']\"))) * 0.3\n",
    "        tests = float(average(eval(x + \"['tests']\"))) * 0.6\n",
    "        return homework + quizzes + tests\n",
    "    def average(numbers):\n",
    "        total = 0\n",
    "        total += float(sum(numbers)) / len(numbers)\n",
    "        return total\n",
    "    def get_letter_grade(score: float):\n",
    "        if score >= 90:\n",
    "            return \"A\"\n",
    "        elif score >= 80:\n",
    "            return \"B\"\n",
    "        elif score >= 70:\n",
    "            return \"C\"\n",
    "        elif score >= 60:\n",
    "            return \"D\"\n",
    "        else :\n",
    "            return \"F\"\n",
    "def get_class_average(students):\n",
    "        results = []\n",
    "        for y in students:\n",
    "            result = get_average(y)\n",
    "            results.append(result)\n",
    "        return average(results)\n",
    "\n",
    "print(\"Eren's score is :\", (get_average(\"eren\")))\n",
    "print(\"Eren's grade is :\", get_letter_grade(get_average(\"eren\")))\n",
    "\n",
    "print(\"Mikasa's score is :\", (get_average(\"mikasa\")))\n",
    "print(\"Mikasa's grade is :\", get_letter_grade(get_average(\"mikasa\")))\n",
    "\n",
    "print(\"Armin's score is :\", (get_average(\"armin\")))\n",
    "print(\"Armin's grade is :\", get_letter_grade(get_average(\"armin\")))\n",
    "\n",
    "print(\"Class average score : {}\".format(get_class_average(student)))\n",
    "print(\"Class average grade : {}\".format(get_letter_grade(get_class_average(student))))"
   ]
  },
  {
   "cell_type": "code",
   "execution_count": null,
   "id": "92400ae0",
   "metadata": {},
   "outputs": [],
   "source": []
  },
  {
   "cell_type": "code",
   "execution_count": null,
   "id": "a930e36f",
   "metadata": {},
   "outputs": [],
   "source": []
  }
 ],
 "metadata": {
  "kernelspec": {
   "display_name": "Python 3 (ipykernel)",
   "language": "python",
   "name": "python3"
  },
  "language_info": {
   "codemirror_mode": {
    "name": "ipython",
    "version": 3
   },
   "file_extension": ".py",
   "mimetype": "text/x-python",
   "name": "python",
   "nbconvert_exporter": "python",
   "pygments_lexer": "ipython3",
   "version": "3.10.7"
  }
 },
 "nbformat": 4,
 "nbformat_minor": 5
}
